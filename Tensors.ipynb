{
  "nbformat": 4,
  "nbformat_minor": 0,
  "metadata": {
    "colab": {
      "provenance": [],
      "authorship_tag": "ABX9TyN9uVkoaHXFkLI09oI6uSCV",
      "include_colab_link": true
    },
    "kernelspec": {
      "name": "python3",
      "display_name": "Python 3"
    },
    "language_info": {
      "name": "python"
    }
  },
  "cells": [
    {
      "cell_type": "markdown",
      "metadata": {
        "id": "view-in-github",
        "colab_type": "text"
      },
      "source": [
        "<a href=\"https://colab.research.google.com/github/nickpsal/PyTorchTutorial/blob/main/Tensors.ipynb\" target=\"_parent\"><img src=\"https://colab.research.google.com/assets/colab-badge.svg\" alt=\"Open In Colab\"/></a>"
      ]
    },
    {
      "cell_type": "code",
      "execution_count": 1,
      "metadata": {
        "id": "UQI4H2IUjEza"
      },
      "outputs": [],
      "source": [
        "import torch"
      ]
    },
    {
      "cell_type": "code",
      "source": [
        "import numpy as np"
      ],
      "metadata": {
        "id": "KGzAZUGLkkMt"
      },
      "execution_count": 2,
      "outputs": []
    },
    {
      "cell_type": "markdown",
      "source": [
        "Lists"
      ],
      "metadata": {
        "id": "I9qZoRElkz3B"
      }
    },
    {
      "cell_type": "code",
      "source": [
        "mylist = [[1,2,3,4,5], [6,7,8,9,10]]"
      ],
      "metadata": {
        "id": "jaL3h5bjk4Vp"
      },
      "execution_count": 6,
      "outputs": []
    },
    {
      "cell_type": "code",
      "source": [
        "mylist"
      ],
      "metadata": {
        "colab": {
          "base_uri": "https://localhost:8080/"
        },
        "id": "Pc1Tpu9Hk_8K",
        "outputId": "ef8ec777-dbba-41cb-a926-38550d3c60b0"
      },
      "execution_count": 7,
      "outputs": [
        {
          "output_type": "execute_result",
          "data": {
            "text/plain": [
              "[[1, 2, 3, 4, 5], [6, 7, 8, 9, 10]]"
            ]
          },
          "metadata": {},
          "execution_count": 7
        }
      ]
    },
    {
      "cell_type": "markdown",
      "source": [
        "Numpy Lists"
      ],
      "metadata": {
        "id": "-jOJPAr1lTOr"
      }
    },
    {
      "cell_type": "code",
      "source": [
        "np1 = np.random.rand(3,4)"
      ],
      "metadata": {
        "id": "J-sLJ7s7lWc0"
      },
      "execution_count": 8,
      "outputs": []
    },
    {
      "cell_type": "code",
      "source": [
        "np1"
      ],
      "metadata": {
        "colab": {
          "base_uri": "https://localhost:8080/"
        },
        "id": "ra0V767ZlzKV",
        "outputId": "7a1c54fa-fab1-44a4-a7b3-d95c5e475faf"
      },
      "execution_count": 9,
      "outputs": [
        {
          "output_type": "execute_result",
          "data": {
            "text/plain": [
              "array([[0.10756006, 0.02172893, 0.34825113, 0.45104046],\n",
              "       [0.41101526, 0.26658349, 0.0623567 , 0.07308669],\n",
              "       [0.08347458, 0.44549784, 0.58334239, 0.58218416]])"
            ]
          },
          "metadata": {},
          "execution_count": 9
        }
      ]
    },
    {
      "cell_type": "code",
      "source": [
        "np1.dtype"
      ],
      "metadata": {
        "colab": {
          "base_uri": "https://localhost:8080/"
        },
        "id": "_RefNdIFl1C9",
        "outputId": "e4009142-6cc9-4dbd-946d-a0ba610f0cf8"
      },
      "execution_count": 10,
      "outputs": [
        {
          "output_type": "execute_result",
          "data": {
            "text/plain": [
              "dtype('float64')"
            ]
          },
          "metadata": {},
          "execution_count": 10
        }
      ]
    },
    {
      "cell_type": "markdown",
      "source": [
        "Tensor"
      ],
      "metadata": {
        "id": "_cWRRixjmKS3"
      }
    },
    {
      "cell_type": "code",
      "source": [
        "tensor2d = torch.randn(3,4)"
      ],
      "metadata": {
        "id": "M1wIm6oBmLtA"
      },
      "execution_count": 11,
      "outputs": []
    },
    {
      "cell_type": "code",
      "source": [
        "tensor2d"
      ],
      "metadata": {
        "colab": {
          "base_uri": "https://localhost:8080/"
        },
        "id": "X9zAhAy5mW85",
        "outputId": "dbe5cc3a-343c-4d41-8528-9c80432b54a8"
      },
      "execution_count": 12,
      "outputs": [
        {
          "output_type": "execute_result",
          "data": {
            "text/plain": [
              "tensor([[ 0.6998,  0.2975,  1.5312, -0.4336],\n",
              "        [-0.8266,  1.0785,  0.5184, -2.1149],\n",
              "        [ 0.8303, -1.4612,  0.3640, -0.6682]])"
            ]
          },
          "metadata": {},
          "execution_count": 12
        }
      ]
    },
    {
      "cell_type": "code",
      "source": [
        "tensor2d.dtype"
      ],
      "metadata": {
        "colab": {
          "base_uri": "https://localhost:8080/"
        },
        "id": "higmnQuJmY2A",
        "outputId": "5939dc84-fe61-47e2-e823-1ae9f123ce0d"
      },
      "execution_count": 13,
      "outputs": [
        {
          "output_type": "execute_result",
          "data": {
            "text/plain": [
              "torch.float32"
            ]
          },
          "metadata": {},
          "execution_count": 13
        }
      ]
    },
    {
      "cell_type": "code",
      "source": [],
      "metadata": {
        "id": "wKf4U3lxmcWA"
      },
      "execution_count": null,
      "outputs": []
    }
  ]
}